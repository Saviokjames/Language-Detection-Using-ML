{
  "nbformat": 4,
  "nbformat_minor": 0,
  "metadata": {
    "colab": {
      "provenance": []
    },
    "kernelspec": {
      "name": "python3",
      "display_name": "Python 3"
    },
    "language_info": {
      "name": "python"
    }
  },
  "cells": [
    {
      "cell_type": "code",
      "execution_count": 2,
      "metadata": {
        "id": "AQ5wb8ExLBKR"
      },
      "outputs": [],
      "source": []
    },
    {
      "cell_type": "code",
      "execution_count": 3,
      "metadata": {
        "id": "5f7NnNG1L8jZ",
        "colab": {
          "base_uri": "https://localhost:8080/"
        },
        "outputId": "36eb64ba-9949-4fe2-c172-cd3dc18e704f"
      },
      "outputs": [
        {
          "output_type": "stream",
          "name": "stderr",
          "text": [
            "[nltk_data] Downloading package stopwords to /root/nltk_data...\n",
            "[nltk_data]   Package stopwords is already up-to-date!\n"
          ]
        }
      ],
      "source": [
        "import pandas as pd\n",
        "import numpy as np\n",
        "import nltk\n",
        "from nltk.tokenize import word_tokenize\n",
        "nltk.download('stopwords')\n",
        "from sklearn.model_selection import train_test_split\n",
        "from sklearn.naive_bayes import MultinomialNB\n",
        "import matplotlib.pyplot as plt\n",
        "import seaborn as sns"
      ]
    },
    {
      "cell_type": "markdown",
      "metadata": {
        "id": "4Kz__jBrAgEf"
      },
      "source": [
        "# SPRINT -1\n",
        "# DATA PREPROCESSING"
      ]
    },
    {
      "cell_type": "code",
      "execution_count": 4,
      "metadata": {
        "id": "Q6lDSsqLO2dF",
        "colab": {
          "base_uri": "https://localhost:8080/"
        },
        "outputId": "887c1791-ab79-4fba-d2e3-de245954626b"
      },
      "outputs": [
        {
          "output_type": "stream",
          "name": "stderr",
          "text": [
            "[nltk_data] Downloading package punkt to /root/nltk_data...\n",
            "[nltk_data]   Unzipping tokenizers/punkt.zip.\n"
          ]
        },
        {
          "output_type": "execute_result",
          "data": {
            "text/plain": [
              "True"
            ]
          },
          "metadata": {},
          "execution_count": 4
        }
      ],
      "source": [
        "nltk.download('punkt')"
      ]
    },
    {
      "cell_type": "code",
      "execution_count": 5,
      "metadata": {
        "id": "qhtpKnAcMP4U"
      },
      "outputs": [],
      "source": [
        "data = pd.read_csv(\"/content/drive/MyDrive/language  dataset/dataset.csv\")"
      ]
    },
    {
      "cell_type": "code",
      "execution_count": 6,
      "metadata": {
        "id": "fj0BRmtKPkU8",
        "colab": {
          "base_uri": "https://localhost:8080/"
        },
        "outputId": "a9d8002f-fc64-41c9-9770-ea6ff335605b"
      },
      "outputs": [
        {
          "output_type": "stream",
          "name": "stdout",
          "text": [
            "Estonian\n",
            "Swedish\n",
            "Thai\n",
            "Tamil\n",
            "Dutch\n",
            "Japanese\n",
            "Turkish\n",
            "Latin\n",
            "Urdu\n",
            "Indonesian\n",
            "Portugese\n",
            "French\n",
            "Chinese\n",
            "Korean\n",
            "Hindi\n",
            "Spanish\n",
            "Pushto\n",
            "Persian\n",
            "Romanian\n",
            "Russian\n",
            "English\n",
            "Arabic\n"
          ]
        }
      ],
      "source": [
        "unique_languages = data['language'].unique()\n",
        "\n",
        "# Print the unique languages\n",
        "for lang in unique_languages:\n",
        "    print(lang)"
      ]
    },
    {
      "cell_type": "code",
      "execution_count": 7,
      "metadata": {
        "id": "JOMvVTo0MYS7",
        "colab": {
          "base_uri": "https://localhost:8080/",
          "height": 206
        },
        "outputId": "9a461a90-bd64-4414-aafd-d86437feaae9"
      },
      "outputs": [
        {
          "output_type": "execute_result",
          "data": {
            "text/plain": [
              "                                                Text  language\n",
              "0  klement gottwaldi surnukeha palsameeriti ning ...  Estonian\n",
              "1  sebes joseph pereira thomas  på eng the jesuit...   Swedish\n",
              "2  ถนนเจริญกรุง อักษรโรมัน thanon charoen krung เ...      Thai\n",
              "3  விசாகப்பட்டினம் தமிழ்ச்சங்கத்தை இந்துப் பத்திர...     Tamil\n",
              "4  de spons behoort tot het geslacht haliclona en...     Dutch"
            ],
            "text/html": [
              "\n",
              "  <div id=\"df-e97558d7-273c-4c67-a3e9-88ef5ccb4220\" class=\"colab-df-container\">\n",
              "    <div>\n",
              "<style scoped>\n",
              "    .dataframe tbody tr th:only-of-type {\n",
              "        vertical-align: middle;\n",
              "    }\n",
              "\n",
              "    .dataframe tbody tr th {\n",
              "        vertical-align: top;\n",
              "    }\n",
              "\n",
              "    .dataframe thead th {\n",
              "        text-align: right;\n",
              "    }\n",
              "</style>\n",
              "<table border=\"1\" class=\"dataframe\">\n",
              "  <thead>\n",
              "    <tr style=\"text-align: right;\">\n",
              "      <th></th>\n",
              "      <th>Text</th>\n",
              "      <th>language</th>\n",
              "    </tr>\n",
              "  </thead>\n",
              "  <tbody>\n",
              "    <tr>\n",
              "      <th>0</th>\n",
              "      <td>klement gottwaldi surnukeha palsameeriti ning ...</td>\n",
              "      <td>Estonian</td>\n",
              "    </tr>\n",
              "    <tr>\n",
              "      <th>1</th>\n",
              "      <td>sebes joseph pereira thomas  på eng the jesuit...</td>\n",
              "      <td>Swedish</td>\n",
              "    </tr>\n",
              "    <tr>\n",
              "      <th>2</th>\n",
              "      <td>ถนนเจริญกรุง อักษรโรมัน thanon charoen krung เ...</td>\n",
              "      <td>Thai</td>\n",
              "    </tr>\n",
              "    <tr>\n",
              "      <th>3</th>\n",
              "      <td>விசாகப்பட்டினம் தமிழ்ச்சங்கத்தை இந்துப் பத்திர...</td>\n",
              "      <td>Tamil</td>\n",
              "    </tr>\n",
              "    <tr>\n",
              "      <th>4</th>\n",
              "      <td>de spons behoort tot het geslacht haliclona en...</td>\n",
              "      <td>Dutch</td>\n",
              "    </tr>\n",
              "  </tbody>\n",
              "</table>\n",
              "</div>\n",
              "    <div class=\"colab-df-buttons\">\n",
              "\n",
              "  <div class=\"colab-df-container\">\n",
              "    <button class=\"colab-df-convert\" onclick=\"convertToInteractive('df-e97558d7-273c-4c67-a3e9-88ef5ccb4220')\"\n",
              "            title=\"Convert this dataframe to an interactive table.\"\n",
              "            style=\"display:none;\">\n",
              "\n",
              "  <svg xmlns=\"http://www.w3.org/2000/svg\" height=\"24px\" viewBox=\"0 -960 960 960\">\n",
              "    <path d=\"M120-120v-720h720v720H120Zm60-500h600v-160H180v160Zm220 220h160v-160H400v160Zm0 220h160v-160H400v160ZM180-400h160v-160H180v160Zm440 0h160v-160H620v160ZM180-180h160v-160H180v160Zm440 0h160v-160H620v160Z\"/>\n",
              "  </svg>\n",
              "    </button>\n",
              "\n",
              "  <style>\n",
              "    .colab-df-container {\n",
              "      display:flex;\n",
              "      gap: 12px;\n",
              "    }\n",
              "\n",
              "    .colab-df-convert {\n",
              "      background-color: #E8F0FE;\n",
              "      border: none;\n",
              "      border-radius: 50%;\n",
              "      cursor: pointer;\n",
              "      display: none;\n",
              "      fill: #1967D2;\n",
              "      height: 32px;\n",
              "      padding: 0 0 0 0;\n",
              "      width: 32px;\n",
              "    }\n",
              "\n",
              "    .colab-df-convert:hover {\n",
              "      background-color: #E2EBFA;\n",
              "      box-shadow: 0px 1px 2px rgba(60, 64, 67, 0.3), 0px 1px 3px 1px rgba(60, 64, 67, 0.15);\n",
              "      fill: #174EA6;\n",
              "    }\n",
              "\n",
              "    .colab-df-buttons div {\n",
              "      margin-bottom: 4px;\n",
              "    }\n",
              "\n",
              "    [theme=dark] .colab-df-convert {\n",
              "      background-color: #3B4455;\n",
              "      fill: #D2E3FC;\n",
              "    }\n",
              "\n",
              "    [theme=dark] .colab-df-convert:hover {\n",
              "      background-color: #434B5C;\n",
              "      box-shadow: 0px 1px 3px 1px rgba(0, 0, 0, 0.15);\n",
              "      filter: drop-shadow(0px 1px 2px rgba(0, 0, 0, 0.3));\n",
              "      fill: #FFFFFF;\n",
              "    }\n",
              "  </style>\n",
              "\n",
              "    <script>\n",
              "      const buttonEl =\n",
              "        document.querySelector('#df-e97558d7-273c-4c67-a3e9-88ef5ccb4220 button.colab-df-convert');\n",
              "      buttonEl.style.display =\n",
              "        google.colab.kernel.accessAllowed ? 'block' : 'none';\n",
              "\n",
              "      async function convertToInteractive(key) {\n",
              "        const element = document.querySelector('#df-e97558d7-273c-4c67-a3e9-88ef5ccb4220');\n",
              "        const dataTable =\n",
              "          await google.colab.kernel.invokeFunction('convertToInteractive',\n",
              "                                                    [key], {});\n",
              "        if (!dataTable) return;\n",
              "\n",
              "        const docLinkHtml = 'Like what you see? Visit the ' +\n",
              "          '<a target=\"_blank\" href=https://colab.research.google.com/notebooks/data_table.ipynb>data table notebook</a>'\n",
              "          + ' to learn more about interactive tables.';\n",
              "        element.innerHTML = '';\n",
              "        dataTable['output_type'] = 'display_data';\n",
              "        await google.colab.output.renderOutput(dataTable, element);\n",
              "        const docLink = document.createElement('div');\n",
              "        docLink.innerHTML = docLinkHtml;\n",
              "        element.appendChild(docLink);\n",
              "      }\n",
              "    </script>\n",
              "  </div>\n",
              "\n",
              "\n",
              "<div id=\"df-13dd9465-8614-41e5-8aaa-b587506c8401\">\n",
              "  <button class=\"colab-df-quickchart\" onclick=\"quickchart('df-13dd9465-8614-41e5-8aaa-b587506c8401')\"\n",
              "            title=\"Suggest charts\"\n",
              "            style=\"display:none;\">\n",
              "\n",
              "<svg xmlns=\"http://www.w3.org/2000/svg\" height=\"24px\"viewBox=\"0 0 24 24\"\n",
              "     width=\"24px\">\n",
              "    <g>\n",
              "        <path d=\"M19 3H5c-1.1 0-2 .9-2 2v14c0 1.1.9 2 2 2h14c1.1 0 2-.9 2-2V5c0-1.1-.9-2-2-2zM9 17H7v-7h2v7zm4 0h-2V7h2v10zm4 0h-2v-4h2v4z\"/>\n",
              "    </g>\n",
              "</svg>\n",
              "  </button>\n",
              "\n",
              "<style>\n",
              "  .colab-df-quickchart {\n",
              "      --bg-color: #E8F0FE;\n",
              "      --fill-color: #1967D2;\n",
              "      --hover-bg-color: #E2EBFA;\n",
              "      --hover-fill-color: #174EA6;\n",
              "      --disabled-fill-color: #AAA;\n",
              "      --disabled-bg-color: #DDD;\n",
              "  }\n",
              "\n",
              "  [theme=dark] .colab-df-quickchart {\n",
              "      --bg-color: #3B4455;\n",
              "      --fill-color: #D2E3FC;\n",
              "      --hover-bg-color: #434B5C;\n",
              "      --hover-fill-color: #FFFFFF;\n",
              "      --disabled-bg-color: #3B4455;\n",
              "      --disabled-fill-color: #666;\n",
              "  }\n",
              "\n",
              "  .colab-df-quickchart {\n",
              "    background-color: var(--bg-color);\n",
              "    border: none;\n",
              "    border-radius: 50%;\n",
              "    cursor: pointer;\n",
              "    display: none;\n",
              "    fill: var(--fill-color);\n",
              "    height: 32px;\n",
              "    padding: 0;\n",
              "    width: 32px;\n",
              "  }\n",
              "\n",
              "  .colab-df-quickchart:hover {\n",
              "    background-color: var(--hover-bg-color);\n",
              "    box-shadow: 0 1px 2px rgba(60, 64, 67, 0.3), 0 1px 3px 1px rgba(60, 64, 67, 0.15);\n",
              "    fill: var(--button-hover-fill-color);\n",
              "  }\n",
              "\n",
              "  .colab-df-quickchart-complete:disabled,\n",
              "  .colab-df-quickchart-complete:disabled:hover {\n",
              "    background-color: var(--disabled-bg-color);\n",
              "    fill: var(--disabled-fill-color);\n",
              "    box-shadow: none;\n",
              "  }\n",
              "\n",
              "  .colab-df-spinner {\n",
              "    border: 2px solid var(--fill-color);\n",
              "    border-color: transparent;\n",
              "    border-bottom-color: var(--fill-color);\n",
              "    animation:\n",
              "      spin 1s steps(1) infinite;\n",
              "  }\n",
              "\n",
              "  @keyframes spin {\n",
              "    0% {\n",
              "      border-color: transparent;\n",
              "      border-bottom-color: var(--fill-color);\n",
              "      border-left-color: var(--fill-color);\n",
              "    }\n",
              "    20% {\n",
              "      border-color: transparent;\n",
              "      border-left-color: var(--fill-color);\n",
              "      border-top-color: var(--fill-color);\n",
              "    }\n",
              "    30% {\n",
              "      border-color: transparent;\n",
              "      border-left-color: var(--fill-color);\n",
              "      border-top-color: var(--fill-color);\n",
              "      border-right-color: var(--fill-color);\n",
              "    }\n",
              "    40% {\n",
              "      border-color: transparent;\n",
              "      border-right-color: var(--fill-color);\n",
              "      border-top-color: var(--fill-color);\n",
              "    }\n",
              "    60% {\n",
              "      border-color: transparent;\n",
              "      border-right-color: var(--fill-color);\n",
              "    }\n",
              "    80% {\n",
              "      border-color: transparent;\n",
              "      border-right-color: var(--fill-color);\n",
              "      border-bottom-color: var(--fill-color);\n",
              "    }\n",
              "    90% {\n",
              "      border-color: transparent;\n",
              "      border-bottom-color: var(--fill-color);\n",
              "    }\n",
              "  }\n",
              "</style>\n",
              "\n",
              "  <script>\n",
              "    async function quickchart(key) {\n",
              "      const quickchartButtonEl =\n",
              "        document.querySelector('#' + key + ' button');\n",
              "      quickchartButtonEl.disabled = true;  // To prevent multiple clicks.\n",
              "      quickchartButtonEl.classList.add('colab-df-spinner');\n",
              "      try {\n",
              "        const charts = await google.colab.kernel.invokeFunction(\n",
              "            'suggestCharts', [key], {});\n",
              "      } catch (error) {\n",
              "        console.error('Error during call to suggestCharts:', error);\n",
              "      }\n",
              "      quickchartButtonEl.classList.remove('colab-df-spinner');\n",
              "      quickchartButtonEl.classList.add('colab-df-quickchart-complete');\n",
              "    }\n",
              "    (() => {\n",
              "      let quickchartButtonEl =\n",
              "        document.querySelector('#df-13dd9465-8614-41e5-8aaa-b587506c8401 button');\n",
              "      quickchartButtonEl.style.display =\n",
              "        google.colab.kernel.accessAllowed ? 'block' : 'none';\n",
              "    })();\n",
              "  </script>\n",
              "</div>\n",
              "    </div>\n",
              "  </div>\n"
            ]
          },
          "metadata": {},
          "execution_count": 7
        }
      ],
      "source": [
        "data.head()"
      ]
    },
    {
      "cell_type": "markdown",
      "metadata": {
        "id": "Qj7I7JDu3HiJ"
      },
      "source": [
        "**LANGUAGE DISTRIBUTION**"
      ]
    },
    {
      "cell_type": "code",
      "execution_count": 8,
      "metadata": {
        "id": "Hrm4Z8DF0-I2",
        "colab": {
          "base_uri": "https://localhost:8080/",
          "height": 626
        },
        "outputId": "900c8062-9e84-4886-d012-6ab0a4d901e8"
      },
      "outputs": [
        {
          "output_type": "display_data",
          "data": {
            "text/plain": [
              "<Figure size 1200x600 with 1 Axes>"
            ],
            "image/png": "[encoded data removed]"
          },
          "metadata": {}
        }
      ],
      "source": [
        "import matplotlib.pyplot as plt\n",
        "import seaborn as sns\n",
        "\n",
        "# Count the number of samples per language\n",
        "language_counts = data['language'].value_counts()\n",
        "\n",
        "# Create a bar chart to visualize class distribution\n",
        "plt.figure(figsize=(12, 6))\n",
        "sns.barplot(x=language_counts.index, y=language_counts.values)\n",
        "plt.xlabel('Language')\n",
        "plt.ylabel('Number of Samples')\n",
        "plt.title('Language Distribution in the Dataset')\n",
        "plt.xticks(rotation=90)\n",
        "plt.show()\n"
      ]
    },
    {
      "cell_type": "markdown",
      "metadata": {
        "id": "L9sYZ4dMNtj5"
      },
      "source": [
        "**LOWERCASING THE DATSET**"
      ]
    },
    {
      "cell_type": "code",
      "execution_count": 9,
      "metadata": {
        "id": "90Vukt_TNm-O"
      },
      "outputs": [],
      "source": [
        "data['Text'] = data['Text'].str.lower()"
      ]
    },
    {
      "cell_type": "markdown",
      "metadata": {
        "id": "I3Tw_FEhO_5r"
      },
      "source": [
        "TOKENIZING THE DATSET"
      ]
    },
    {
      "cell_type": "code",
      "execution_count": 10,
      "metadata": {
        "id": "ibbFxyNLOLMz"
      },
      "outputs": [],
      "source": [
        "data['Text'] = data['Text'].apply(lambda text: word_tokenize(text))"
      ]
    },
    {
      "cell_type": "code",
      "execution_count": 11,
      "metadata": {
        "id": "5TB43IS3O84B",
        "colab": {
          "base_uri": "https://localhost:8080/"
        },
        "outputId": "2ad96acb-90df-4c3c-a26a-db4fe517088d"
      },
      "outputs": [
        {
          "output_type": "stream",
          "name": "stdout",
          "text": [
            "                                                Text  language\n",
            "0  [klement, gottwaldi, surnukeha, palsameeriti, ...  Estonian\n",
            "1  [sebes, joseph, pereira, thomas, på, eng, the,...   Swedish\n",
            "2  [ถนนเจริญกรุง, อักษรโรมัน, thanon, charoen, kr...      Thai\n",
            "3  [விசாகப்பட்டினம், தமிழ்ச்சங்கத்தை, இந்துப், பத...     Tamil\n",
            "4  [de, spons, behoort, tot, het, geslacht, halic...     Dutch\n"
          ]
        }
      ],
      "source": [
        "print(data.head())"
      ]
    },
    {
      "cell_type": "markdown",
      "metadata": {
        "id": "UuTeK3I2RuOi"
      },
      "source": [
        "**CREATING STOPWORDS**\n"
      ]
    },
    {
      "cell_type": "code",
      "execution_count": 12,
      "metadata": {
        "id": "9Zry5qjPRBdJ"
      },
      "outputs": [],
      "source": [
        "# Define stop word lists for each language\n",
        "stop_words = {\n",
        "\n",
        "    \"swedish\": set(nltk.corpus.stopwords.words(\"swedish\")),\n",
        "    \"dutch\": set(nltk.corpus.stopwords.words(\"dutch\")),\n",
        "    \"turkish\": set(nltk.corpus.stopwords.words(\"turkish\")),\n",
        "    \"indonesian\": set(nltk.corpus.stopwords.words(\"indonesian\")),\n",
        "    \"portuguese\": set(nltk.corpus.stopwords.words(\"portuguese\")),\n",
        "    \"french\": set(nltk.corpus.stopwords.words(\"french\")),\n",
        "    \"chinese\": set(nltk.corpus.stopwords.words(\"chinese\")),\n",
        "    \"spanish\": set(nltk.corpus.stopwords.words(\"spanish\")),\n",
        "    \"romanian\": set(nltk.corpus.stopwords.words(\"romanian\")),\n",
        "    \"russian\": set(nltk.corpus.stopwords.words(\"russian\")),\n",
        "    \"english\": set(nltk.corpus.stopwords.words(\"english\")),\n",
        "    \"arabic\": set(nltk.corpus.stopwords.words(\"arabic\")),\n",
        "    \"estonian\": {\n",
        "        \"ja\", \"ega\", \"või\", \"ning\", \"aga\", \"sest\", \"et\", \"kui\",\n",
        "        \"olema\", \"saama\", \"oma\", \"tema\", \"see\", \"need\", \"nende\",\n",
        "    },\n",
        "    \"thai\": {\n",
        "        \"และ\", \"หรือ\", \"ถ้า\", \"เพื่อ\", \"โดย\", \"แต่\", \"ซึ่ง\",\n",
        "        \"เป็น\", \"ก็\", \"ไป\", \"ที่\", \"มี\", \"ใน\", \"คือ\",\n",
        "    },\n",
        "    \"tamil\": {\n",
        "        \"உள்ள\", \"அவன்\", \"இந்த\", \"அவர்\", \"அது\", \"அந்த\", \"இது\",\n",
        "        \"ஆனால்\", \"அந்தரம்\", \"இனி\", \"அவனுக்கு\", \"அவன்\",\n",
        "        \"அந்தக்\", \"அந்தக்\",\n",
        "    },\n",
        "    \"japanese\": {\n",
        "        \"と\", \"に\", \"は\", \"を\", \"が\", \"で\", \"の\", \"て\",\n",
        "        \"た\", \"だ\", \"り\", \"ら\", \"な\", \"い\", \"など\",\n",
        "    },\n",
        "    \"latin\": {\n",
        "        \"et\", \"cum\", \"in\", \"est\", \"non\", \"ad\", \"ex\", \"sed\",\n",
        "        \"ut\", \"qui\", \"hoc\", \"sunt\", \"quia\", \"a\", \"ab\",\n",
        "    },\n",
        "    \"urdu\": {\n",
        "        \"اور\", \"کی\", \"سے\", \"کا\", \"یا\", \"کے\", \"کو\", \"کی\", \"کیا\", \"کہ\", \"کی\", \"کے\",\n",
        "    },\n",
        "    \"korean\": {\n",
        "        \"그\", \"그녀\", \"그것\", \"이\", \"저\", \"우리\", \"당신\", \"누구\", \"어떤\", \"무엇\",\n",
        "        \"왜\", \"어떻게\", \"어디\", \"언제\", \"모든\", \"많은\", \"몇\", \"적은\",\n",
        "    },\n",
        "    \"hindi\": {\n",
        "        \"और\", \"का\", \"के\", \"की\", \"है\", \"हैं\", \"को\", \"में\",\n",
        "        \"से\", \"कर\", \"पर\", \"इस\", \"की\", \"एक\", \"होता\", \"कि\",\n",
        "    },\n",
        "    \"pushto\": {\n",
        "        \"او\", \"څنګه\", \"هم\", \"زموږ\", \"يو\", \"خو\", \"د\", \"چې\",\n",
        "        \"دغه\", \"دوی\", \"پر\", \"به\", \"لرې\", \"چه\", \"دا\", \"که\",\n",
        "    },\n",
        "    \"persian\": {\n",
        "        \"و\", \"به\", \"در\", \"از\", \"با\", \"برای\", \"را\", \"که\", \"این\", \"است\",\n",
        "        \"آن\", \"یک\", \"هم\", \"های\", \"شما\", \"ما\", \"می\", \"آنها\", \"من\", \"باشد\",\n",
        "    },\n",
        "    \"nan\": set(),  # Placeholder for missing language\n",
        "}\n",
        "\n",
        "\n",
        "\n"
      ]
    },
    {
      "cell_type": "markdown",
      "metadata": {
        "id": "S_V6lc81T-HK"
      },
      "source": [
        "**REMOVING THE STOPWORDS**"
      ]
    },
    {
      "cell_type": "code",
      "execution_count": 13,
      "metadata": {
        "id": "dV_DeUTbT3c8"
      },
      "outputs": [],
      "source": [
        "for lang in stop_words:\n",
        "    if lang in data.columns:\n",
        "        data[lang] = data[lang].apply(lambda tokens: [word for word in tokens if word not in stop_words[lang]])\n"
      ]
    },
    {
      "cell_type": "markdown",
      "metadata": {
        "id": "25XPYzh3cGkW"
      },
      "source": [
        "**CHECKING MISSING VALUES**"
      ]
    },
    {
      "cell_type": "code",
      "execution_count": 14,
      "metadata": {
        "id": "zRljMdraU_wT",
        "colab": {
          "base_uri": "https://localhost:8080/"
        },
        "outputId": "582df237-9b28-41c1-e127-28467af55bf6"
      },
      "outputs": [
        {
          "output_type": "stream",
          "name": "stdout",
          "text": [
            "Text        0\n",
            "language    0\n",
            "dtype: int64\n"
          ]
        }
      ],
      "source": [
        "missing_values = data.isnull().sum()\n",
        "\n",
        "# Display the count of missing values for each column\n",
        "print(missing_values)"
      ]
    },
    {
      "cell_type": "code",
      "execution_count": 15,
      "metadata": {
        "id": "2Qm-M6544MBC",
        "colab": {
          "base_uri": "https://localhost:8080/"
        },
        "outputId": "413e131c-a737-4c92-de80-523864a250b9"
      },
      "outputs": [
        {
          "output_type": "stream",
          "name": "stdout",
          "text": [
            "Missing Data Summary:\n",
            "         Column Name  Missing Values  Percentage Missing\n",
            "Text            Text               0                 0.0\n",
            "language    language               0                 0.0\n"
          ]
        }
      ],
      "source": [
        "missing_values = data.isnull().sum()\n",
        "percentage_missing = (missing_values / len(data)) * 100\n",
        "missing_data_summary = pd.DataFrame({\n",
        "    'Column Name': data.columns,\n",
        "    'Missing Values': missing_values,\n",
        "    'Percentage Missing': percentage_missing\n",
        "})\n",
        "print(\"Missing Data Summary:\")\n",
        "print(missing_data_summary)"
      ]
    },
    {
      "cell_type": "markdown",
      "metadata": {
        "id": "oFkBtGQncNL7"
      },
      "source": [
        "**CHECKING NULL VALUES**"
      ]
    },
    {
      "cell_type": "code",
      "execution_count": 16,
      "metadata": {
        "id": "98FAW9cLc4wX",
        "colab": {
          "base_uri": "https://localhost:8080/"
        },
        "outputId": "a455f02f-7d7d-4091-db79-4eba8c6d556f"
      },
      "outputs": [
        {
          "output_type": "stream",
          "name": "stdout",
          "text": [
            "Text        0\n",
            "language    0\n",
            "dtype: int64\n"
          ]
        }
      ],
      "source": [
        "null_values = data.isnull().sum()\n",
        "print(null_values)"
      ]
    }
  ]
}